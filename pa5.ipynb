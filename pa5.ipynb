{
 "cells": [
  {
   "cell_type": "markdown",
   "id": "47cabb5d",
   "metadata": {},
   "source": [
    "### Q1. What is the meaning of multiple inheritance?\n",
    "\n",
    "Multiple inheritance refers to a feature of some object-oriented programming languages that allows a class to inherit from more than one superclass. This means that a class can have multiple parent classes and inherit methods and properties from all of them."
   ]
  },
  {
   "cell_type": "markdown",
   "id": "a9fdd47b",
   "metadata": {},
   "source": [
    "### Q2. What is the concept of delegation?\n",
    "\n",
    "\n",
    "Delegation is a design pattern that allows an object to delegate some of its responsibilities to another object. It is a way of outsourcing certain functionality to another object. The object that is doing the delegation is called the \"delegator\" and the object that is receiving the delegation is called the \"delegate\".\n",
    "\n",
    "One of the main advantages of delegation is that it allows for a separation of concerns and can make code more reusable. Instead of one class having to handle all of the functionality itself, it can delegate some of that functionality to another class. This can make the code more modular and easier to understand."
   ]
  },
  {
   "cell_type": "markdown",
   "id": "5e7f54de",
   "metadata": {},
   "source": [
    "### Q3. What is the concept of composition?\n",
    "\n",
    "\n",
    "Composition is a design pattern that allows an object to be composed of other objects. It is a way of creating an object by combining other objects. The objects that are being combined are called \"components\".\n",
    "\n",
    "In composition, an object has a reference to one or more other objects and can use the functionality provided by those objects to accomplish its own functionality. This is in contrast to inheritance, where an object inherits functionality from a parent class.\n",
    "\n",
    "Composition allows for a more flexible and modular design of the code, as the objects can be reused in different contexts and can be easily replaced with other objects if needed. It also allows for a better separation of concerns, as the objects are not tightly coupled to each other and can be developed and tested independently.\n",
    "\n",
    "In Python, composition is often implemented by creating an instance of one class as an attribute of another class. The composed class can then use the functionality of the attribute to accomplish its own functionality."
   ]
  },
  {
   "cell_type": "markdown",
   "id": "004b82b7",
   "metadata": {},
   "source": [
    "#### Q4. What are bound methods and how do we use them?\n",
    "\n",
    "Bound methods are methods that are bound to a specific instance of a class. When a method is called on an instance of a class, the instance is passed as the first argument to the method (usually named self). This is known as \"binding\" the method to the instance.\n",
    "\n",
    "Bound methods can be used to access the instance's state and to modify the state of the instance. They are typically used to define the behavior of instances of a class.\n"
   ]
  },
  {
   "cell_type": "code",
   "execution_count": null,
   "id": "40c0f5f6",
   "metadata": {},
   "outputs": [],
   "source": [
    "Q5. What is the purpose of pseudoprivate attributes?\n",
    "\n",
    "Pseudoprivate attributes are attributes that are intended to be used only within the class and not by external code. They are not truly private, but they are intended to be treated as if they were private. They are typically used to store the internal state of an object or to hold intermediate results of computations, and their use is intended to be transparent to the user of the class.\n",
    "The purpose of pseudoprivate attributes is to encapsulate the internal state of an object, and to provide a way to change that state without exposing the implementation details to the user of the class. It also serves as a way to signal to the developers that these attributes are not intended to be accessed or modified directly, and that they should be used with caution."
   ]
  }
 ],
 "metadata": {
  "kernelspec": {
   "display_name": "Python 3 (ipykernel)",
   "language": "python",
   "name": "python3"
  },
  "language_info": {
   "codemirror_mode": {
    "name": "ipython",
    "version": 3
   },
   "file_extension": ".py",
   "mimetype": "text/x-python",
   "name": "python",
   "nbconvert_exporter": "python",
   "pygments_lexer": "ipython3",
   "version": "3.9.12"
  }
 },
 "nbformat": 4,
 "nbformat_minor": 5
}
